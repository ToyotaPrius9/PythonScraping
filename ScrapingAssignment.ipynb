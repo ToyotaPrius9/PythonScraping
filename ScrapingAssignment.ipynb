{
 "cells": [
  {
   "cell_type": "code",
   "execution_count": 66,
   "metadata": {},
   "outputs": [],
   "source": [
    "from bs4 import BeautifulSoup\n",
    "import requests\n",
    "import re\n",
    "import pandas as pd\n"
   ]
  },
  {
   "cell_type": "code",
   "execution_count": 67,
   "metadata": {},
   "outputs": [],
   "source": [
    "# Downloading Phone Arena data\n",
    "headers = {'Accept-Language': 'en-US,en;q=0.8'}\n",
    "url = 'https://www.phonearena.com/'\n",
    "response = requests.get(url,headers=headers)\n",
    "soup = BeautifulSoup(response.text, \"html.parser\")"
   ]
  },
  {
   "cell_type": "code",
   "execution_count": 68,
   "metadata": {},
   "outputs": [
    {
     "name": "stdout",
     "output_type": "stream",
     "text": [
      "<h3 class=\"title\"><a href=\"https://www.phonearena.com/news/Cost-cutting-apparently-behind-decision-to-remove-Galaxy-S24-Ultra-10x-periscope-camera_id150774\">iPhone 15 is partly to blame for possible removal of Galaxy S24 Ultra 10x camera</a></h3>\n",
      " \n",
      "how many titles are available? 47\n"
     ]
    }
   ],
   "source": [
    "# Extracting the number of titles\n",
    "newstitle = soup.select('h3.title')\n",
    "print(newstitle[0])\n",
    "print(\" \")\n",
    "print(\"how many titles are available?\",len(soup.select('h3.title')))"
   ]
  },
  {
   "cell_type": "code",
   "execution_count": 69,
   "metadata": {},
   "outputs": [
    {
     "name": "stdout",
     "output_type": "stream",
     "text": [
      "[<a href=\"https://www.phonearena.com/news/Cost-cutting-apparently-behind-decision-to-remove-Galaxy-S24-Ultra-10x-periscope-camera_id150774\">iPhone 15 is partly to blame for possible removal of Galaxy S24 Ultra 10x camera</a>, <a href=\"https://www.phonearena.com/news/samsung-galaxy-s24-200mp-telephoto-zoom-camera_id150769\">Samsung wants 200MP zoom cameras</a>, <a href=\"https://www.phonearena.com/news/Samsung-insider-says-Galaxy-S24-Ultra-is-going-to-lose-the-best-camera-feature_id150748\">Samsung might take away the best camera feature from Galaxy S24 Ultra</a>, <a href=\"https://www.phonearena.com/news/ios-17-review_id148616\">iOS 17 review: total refinement, but it's time for a new killer feature</a>, <a href=\"https://www.phonearena.com/news/samsung-foundry-tensor-g4_id150784\">Tipster explains why Samsung Foundry, not TSMC, will build next year's Tensor G4 SoC</a>, <a href=\"https://www.phonearena.com/news/ugreen-nexode-rg-small-powerful-charger_id150740\">Tiny, cute, delightfully powerful: the new Ugreen Nexode RG chargers!</a>, <a href=\"https://www.phonearena.com/news/att-delivers-5g-signals-from-space_id150783\">For the first time, a 5G voice and data connection was made from space to an unmodified phone</a>, <a href=\"https://www.phonearena.com/news/apple-m2-ipad-pro-12-9-amazon-deal-cheapest-model-cheaper-than-usual_id150782\">Apple's 'cheapest' M2-powered iPad Pro 12.9 model is now a cool $100 cheaper than usual</a>, <a href=\"https://www.phonearena.com/news/please-dont-eat-your-airpods_id150780\">Please, don’t eat your AirPods (but they can connect and play in your stomach)</a>, <a href=\"https://www.phonearena.com/news/no-more-google-meet-and-zoom-on-the-nest-hub-max_id150729\">No more Google Meet and Zoom on the Nest Hub Max… but there’s still the Duo</a>, <a href=\"https://www.phonearena.com/news/honor-magic5-pro-amazon-uk-deal_id150779\">UK deal hunters can now grab the top-tier Honor Magic 5 Pro for £181 less from Amazon UK</a>, <a href=\"https://www.phonearena.com/news/best-iphone-15-pro-max-cases_id150643\">The best iPhone 15 and iPhone 15 Pro Max cases you can buy right now</a>, <a href=\"https://www.phonearena.com/reviews/apple-watch-ultra-2-review_id5945\">Apple Watch Ultra 2 preview: Cut from the same cloth</a>, <a href=\"https://www.phonearena.com/reviews/sony-xperia-5-v-vs-sony-xperia-1-v_id5964\">Sony Xperia 5 V vs Sony Xperia 1 V: To zoom or not to zoom?</a>, <a href=\"https://www.phonearena.com/reviews/sony-xperia-5-v-vs-galaxy-s23_id5965\">Sony Xperia 5 V vs Galaxy S23: Niche vs Mainstream</a>, <a href=\"https://www.phonearena.com/reviews/sony-xperia-5-v-vs-sony-xperia-5-iv_id5963\">Sony Xperia 5 V vs Sony Xperia 5 IV: Engineers on a Holiday</a>, <a href=\"https://www.phonearena.com/reviews/apple-watch-series-9-review_id5976\">Apple Watch Series 9 Preview: New Double Tap gesture, gimmick or a game-changer?</a>, <a href=\"https://www.phonearena.com/news/lenovo-yoga-tab-11-deal-walmart-best-buy_id150778\">The Lenovo Yoga Tab 11 can still be yours at a bargain price at these retailers</a>, <a href=\"https://www.phonearena.com/news/blitz-discussion-would-a-usb-c-port-make-you-switch-from-android-to-iphone-15_id150610\">Join the discussion: Would a USB-C port help you switch from Android to iPhone 15?</a>, <a href=\"https://www.phonearena.com/news/iphone-15-pro-max-vs-galaxy-s23-ultra-zoom-comparison_id150759\">iPhone 15 Pro Max vs Galaxy S23 Ultra periscope camera comparison: Can Apple outwit Samsung?</a>, <a href=\"https://www.phonearena.com/news/jbl-pulse-4-40-off-amazon-deal_id150777\">The loud and light show-capable JBL Pulse 4 is now on sale for 40% off its price on Amazon</a>, <a href=\"https://www.phonearena.com/news/huawei-matepad-pro-13.2-tablet-reveal-date_id150765\">Huawei to launch its biggest tablet yet on September 25</a>, <a href=\"https://www.phonearena.com/news/sony-srs-xg300-discounted-amazon-deal_id150775\">You can still snatch a Sony SRS-XG300 Bluetooth speaker with a sweet 43% discount from Amazon</a>, <a href=\"https://www.phonearena.com/news/galaxy-watch-5-pro-irresistible-price-amazon-samsung_id150772\">The Galaxy Watch 5 Pro arrives at an irresistible price at these merchants</a>, <a href=\"https://www.phonearena.com/news/samsung-university-of-michigan-on-a-quest-to-improve-galaxy-watch-metrics_id150776\">Samsung, University of Michigan on a quest to improve Galaxy Watch metrics with 8-month study</a>, <a href=\"https://www.phonearena.com/news/microsoft-surface-pro-9-rock-bottom-prices-amazon_id150639\">The Microsoft Surface Pro 9 512GB hits rock-bottom prices at Amazon</a>, <a href=\"https://www.phonearena.com/news/samsung-galaxy-s23-plus-ultra-new-best-buy-deals-incredible-discounts-activation_id150733\">Best Buy is offering some incredible new Galaxy S23, S23+, and S23 Ultra discounts (with a catch)</a>, <a href=\"https://www.phonearena.com/news/unpopular-opinion-titanium-iphone-15-pro-colors-are-amazingly-well-designed_id150704\">Unpopular opinion: Titanium iPhone 15 Pro colors are amazingly well designed</a>, <a href=\"https://www.phonearena.com/news/youtube-for-android-rounded-corners_id150716\">Google makes a small change to the Android version of the YouTube app</a>, <a href=\"https://www.phonearena.com/news/samsung-galaxy-watch-5-amazon-best-buy-deal-irresistible-price-gps-40mm-variant_id150661\">Amazon and Best Buy are selling the cheapest Samsung Galaxy Watch 5 variant at an irresistible price</a>, <a href=\"https://www.phonearena.com/news/Samsung-is-offering-biggest-Galaxy-S23-Plus-discount-to-date-with-zero-strings-attached_id150654\">Samsung is offering biggest Galaxy S23 Plus discount to date with zero strings attached</a>, <a href=\"https://www.phonearena.com/ar-vr/news/unreal-engine-vision-pro-epic-games_id150736\">The Unreal Engine may come to the Vision Pro, despite the Epic vs Apple drama</a>, <a href=\"https://www.phonearena.com/ar-vr/news/nintendo-google-vr-headset-should-happen_id150742\">Nintendo and Google should absolutely make a VR headset, because that will help the Vision Pro. Hear me out!</a>, <a href=\"https://www.phonearena.com/ar-vr/news/cheap-quest-ventura-and-premium-quest-la-jolla-leaks_id150721\">Meta Quest Pro getting a successor after all? Details on cheap Quest \"Ventura\" and premium Quest \"La Jolla\" leak</a>, <a href=\"https://www.phonearena.com/ar-vr/news/valve-steam-pc-vr-console_id150689\">The next step for Steam may be a PC VR console, but is that what gamers want?</a>, <a href=\"https://www.phonearena.com/news/t-mobile-3-3-billion-spectrum-licensing-deal-comcast-5g-coverage-improvements_id150632\">T-Mobile wants to spend up to $3.3 billion to improve 5G coverage for more than 100 million people</a>, <a href=\"https://www.phonearena.com/news/boost-infinite-infinite-access-for-iphone_id150627\">Get unlimited talk, text, data and a new iPhone every year from Boost Infinite for $60 per month</a>, <a href=\"https://www.phonearena.com/news/t-mobile-ceo-hints-about-buying-uscellular_id150534\">T-Mobile CEO Sievert says he might consider the purchase of this wireless carrier</a>, <a href=\"https://www.phonearena.com/news/t-mobile-yet-another-unpopular-change-new-magenta-virtual-prepaid-card-rewards_id150504\">T-Mobile is making yet another unpopular change to its policies and promotions</a>, <a href=\"https://www.phonearena.com/news/jabra-elite-7-active-noise-cancelling-earbuds-amazon-prime-invite-only-deal_id150771\">Jabra's noise-cancelling Elite 7 Active earbuds can be yours at a killer price... if you're lucky</a>, <a href=\"https://www.phonearena.com/news/Googles-AI-chatbot-Bard-now-connects-to-your-Google-apps-and-services_id150770\">Google’s AI chatbot Bard now connects to your Google apps and services</a>, <a href=\"https://www.phonearena.com/news/oneplus-10-pro-discounted-amazon-deal_id150768\">Amazon has the awesome OnePlus 10 Pro on sale once again; save on one before it's too late</a>, <a href=\"https://www.phonearena.com/news/xiaomi-redmi-note-12-5g-save-20-percent-amazon-uk_id150766\">Snag the Xiaomi Redmi Note 12 5G and save 20% at Amazon UK while you still can</a>, <a href=\"https://www.phonearena.com/news/samsung-galaxy-tab-s6-lite-amazon-deal-reduced-price-s-pen-bargain_id150767\">Samsung's Galaxy Tab S6 Lite mid-ranger is an unrivaled S Pen-wielding bargain at this reduced price</a>, <a href=\"https://www.phonearena.com/news/oneplus-11-amazon-deal_id150764\">Save on a brand new OnePlus 11 128GB or 256GB through this awesome deal</a>, <a href=\"https://www.phonearena.com/news/Spotify-vs.-Apple-A-fight-for-fair-play-in-the-tech-world_id150763\">Spotify vs. Apple: A fight for fair play in the tech world</a>, <a href=\"https://www.phonearena.com/news/garmin-vivoactive-5-next-big-apple-watch-rival-full-specs-features-capabilities-leaked_id150757\">Garmin's next big Apple Watch rival has leaked in full right ahead of its official launch</a>]\n"
     ]
    }
   ],
   "source": [
    "# Get links\n",
    "text = soup.select('h3 a')\n",
    "print(text)"
   ]
  },
  {
   "cell_type": "code",
   "execution_count": 70,
   "metadata": {},
   "outputs": [
    {
     "name": "stdout",
     "output_type": "stream",
     "text": [
      "https://www.phonearena.com/news/Cost-cutting-apparently-behind-decision-to-remove-Galaxy-S24-Ultra-10x-periscope-camera_id150774\n"
     ]
    }
   ],
   "source": [
    "# Target the attribute inside the tag, to reveal link cleanly\n",
    "links=[]\n",
    "for a in soup.select('h3 a'):\n",
    "  links.append(a.attrs.get('href'))\n",
    "\n",
    "print(links[0])"
   ]
  },
  {
   "cell_type": "code",
   "execution_count": 71,
   "metadata": {},
   "outputs": [
    {
     "name": "stdout",
     "output_type": "stream",
     "text": [
      "['iPhone 15 is partly to blame for possible removal of Galaxy S24 Ultra 10x camera', 'Samsung wants 200MP zoom cameras', 'Samsung might take away the best camera feature from Galaxy S24 Ultra', \"iOS 17 review: total refinement, but it's time for a new killer feature\", \"Tipster explains why Samsung Foundry, not TSMC, will build next year's Tensor G4 SoC\", 'Tiny, cute, delightfully powerful: the new Ugreen Nexode RG chargers!', 'For the first time, a 5G voice and data connection was made from space to an unmodified phone', \"Apple's 'cheapest' M2-powered iPad Pro 12.9 model is now a cool $100 cheaper than usual\", 'Please, don’t eat your AirPods (but they can connect and play in your stomach)', 'No more Google Meet and Zoom on the Nest Hub Max… but there’s still the Duo', 'UK deal hunters can now grab the top-tier Honor Magic 5 Pro for £181 less from Amazon UK', 'The best iPhone 15 and iPhone 15 Pro Max cases you can buy right now', 'Apple Watch Ultra 2 preview: Cut from the same cloth', 'Sony Xperia 5 V vs Sony Xperia 1 V: To zoom or not to zoom?', 'Sony Xperia 5 V vs Galaxy S23: Niche vs Mainstream', 'Sony Xperia 5 V vs Sony Xperia 5 IV: Engineers on a Holiday', 'Apple Watch Series 9 Preview: New Double Tap gesture, gimmick or a game-changer?', 'The Lenovo Yoga Tab 11 can still be yours at a bargain price at these retailers', 'Join the discussion: Would a USB-C port help you switch from Android to iPhone 15?', 'iPhone 15 Pro Max vs Galaxy S23 Ultra periscope camera comparison: Can Apple outwit Samsung?', 'The loud and light show-capable JBL Pulse 4 is now on sale for 40% off its price on Amazon', 'Huawei to launch its biggest tablet yet on September 25', 'You can still snatch a Sony SRS-XG300 Bluetooth speaker with a sweet 43% discount from Amazon', 'The Galaxy Watch 5 Pro arrives at an irresistible price at these merchants', 'Samsung, University of Michigan on a quest to improve Galaxy Watch metrics with 8-month study', 'The Microsoft Surface Pro 9 512GB hits rock-bottom prices at Amazon', 'Best Buy is offering some incredible new Galaxy S23, S23+, and S23 Ultra discounts (with a catch)', 'Unpopular opinion: Titanium iPhone 15 Pro colors are amazingly well designed', 'Google makes a small change to the Android version of the YouTube app', 'Amazon and Best Buy are selling the cheapest Samsung Galaxy Watch 5 variant at an irresistible price', 'Samsung is offering biggest Galaxy S23 Plus discount to date with zero strings attached', 'The Unreal Engine may come to the Vision Pro, despite the Epic vs Apple drama', 'Nintendo and Google should absolutely make a VR headset, because that will help the Vision Pro. Hear me out!', 'Meta Quest Pro getting a successor after all? Details on cheap Quest \"Ventura\" and premium Quest \"La Jolla\" leak', 'The next step for Steam may be a PC VR console, but is that what gamers want?', 'T-Mobile wants to spend up to $3.3 billion to improve 5G coverage for more than 100 million people', 'Get unlimited talk, text, data and a new iPhone every year from Boost Infinite for $60 per month', 'T-Mobile CEO Sievert says he might consider the purchase of this wireless carrier', 'T-Mobile is making yet another unpopular change to its policies and promotions', \"Jabra's noise-cancelling Elite 7 Active earbuds can be yours at a killer price... if you're lucky\", 'Google’s AI chatbot Bard now connects to your Google apps and services', \"Amazon has the awesome OnePlus 10 Pro on sale once again; save on one before it's too late\", 'Snag the Xiaomi Redmi Note 12 5G and save 20% at Amazon UK while you still can', \"Samsung's Galaxy Tab S6 Lite mid-ranger is an unrivaled S Pen-wielding bargain at this reduced price\", 'Save on a brand new OnePlus 11 128GB or 256GB through this awesome deal', 'Spotify vs. Apple: A fight for fair play in the tech world', \"Garmin's next big Apple Watch rival has leaked in full right ahead of its official launch\"]\n",
      "['https://www.phonearena.com/news/Cost-cutting-apparently-behind-decision-to-remove-Galaxy-S24-Ultra-10x-periscope-camera_id150774', 'https://www.phonearena.com/news/samsung-galaxy-s24-200mp-telephoto-zoom-camera_id150769', 'https://www.phonearena.com/news/Samsung-insider-says-Galaxy-S24-Ultra-is-going-to-lose-the-best-camera-feature_id150748', 'https://www.phonearena.com/news/ios-17-review_id148616', 'https://www.phonearena.com/news/samsung-foundry-tensor-g4_id150784', 'https://www.phonearena.com/news/ugreen-nexode-rg-small-powerful-charger_id150740', 'https://www.phonearena.com/news/att-delivers-5g-signals-from-space_id150783', 'https://www.phonearena.com/news/apple-m2-ipad-pro-12-9-amazon-deal-cheapest-model-cheaper-than-usual_id150782', 'https://www.phonearena.com/news/please-dont-eat-your-airpods_id150780', 'https://www.phonearena.com/news/no-more-google-meet-and-zoom-on-the-nest-hub-max_id150729', 'https://www.phonearena.com/news/honor-magic5-pro-amazon-uk-deal_id150779', 'https://www.phonearena.com/news/best-iphone-15-pro-max-cases_id150643', 'https://www.phonearena.com/reviews/apple-watch-ultra-2-review_id5945', 'https://www.phonearena.com/reviews/sony-xperia-5-v-vs-sony-xperia-1-v_id5964', 'https://www.phonearena.com/reviews/sony-xperia-5-v-vs-galaxy-s23_id5965', 'https://www.phonearena.com/reviews/sony-xperia-5-v-vs-sony-xperia-5-iv_id5963', 'https://www.phonearena.com/reviews/apple-watch-series-9-review_id5976', 'https://www.phonearena.com/news/lenovo-yoga-tab-11-deal-walmart-best-buy_id150778', 'https://www.phonearena.com/news/blitz-discussion-would-a-usb-c-port-make-you-switch-from-android-to-iphone-15_id150610', 'https://www.phonearena.com/news/iphone-15-pro-max-vs-galaxy-s23-ultra-zoom-comparison_id150759', 'https://www.phonearena.com/news/jbl-pulse-4-40-off-amazon-deal_id150777', 'https://www.phonearena.com/news/huawei-matepad-pro-13.2-tablet-reveal-date_id150765', 'https://www.phonearena.com/news/sony-srs-xg300-discounted-amazon-deal_id150775', 'https://www.phonearena.com/news/galaxy-watch-5-pro-irresistible-price-amazon-samsung_id150772', 'https://www.phonearena.com/news/samsung-university-of-michigan-on-a-quest-to-improve-galaxy-watch-metrics_id150776', 'https://www.phonearena.com/news/microsoft-surface-pro-9-rock-bottom-prices-amazon_id150639', 'https://www.phonearena.com/news/samsung-galaxy-s23-plus-ultra-new-best-buy-deals-incredible-discounts-activation_id150733', 'https://www.phonearena.com/news/unpopular-opinion-titanium-iphone-15-pro-colors-are-amazingly-well-designed_id150704', 'https://www.phonearena.com/news/youtube-for-android-rounded-corners_id150716', 'https://www.phonearena.com/news/samsung-galaxy-watch-5-amazon-best-buy-deal-irresistible-price-gps-40mm-variant_id150661', 'https://www.phonearena.com/news/Samsung-is-offering-biggest-Galaxy-S23-Plus-discount-to-date-with-zero-strings-attached_id150654', 'https://www.phonearena.com/ar-vr/news/unreal-engine-vision-pro-epic-games_id150736', 'https://www.phonearena.com/ar-vr/news/nintendo-google-vr-headset-should-happen_id150742', 'https://www.phonearena.com/ar-vr/news/cheap-quest-ventura-and-premium-quest-la-jolla-leaks_id150721', 'https://www.phonearena.com/ar-vr/news/valve-steam-pc-vr-console_id150689', 'https://www.phonearena.com/news/t-mobile-3-3-billion-spectrum-licensing-deal-comcast-5g-coverage-improvements_id150632', 'https://www.phonearena.com/news/boost-infinite-infinite-access-for-iphone_id150627', 'https://www.phonearena.com/news/t-mobile-ceo-hints-about-buying-uscellular_id150534', 'https://www.phonearena.com/news/t-mobile-yet-another-unpopular-change-new-magenta-virtual-prepaid-card-rewards_id150504', 'https://www.phonearena.com/news/jabra-elite-7-active-noise-cancelling-earbuds-amazon-prime-invite-only-deal_id150771', 'https://www.phonearena.com/news/Googles-AI-chatbot-Bard-now-connects-to-your-Google-apps-and-services_id150770', 'https://www.phonearena.com/news/oneplus-10-pro-discounted-amazon-deal_id150768', 'https://www.phonearena.com/news/xiaomi-redmi-note-12-5g-save-20-percent-amazon-uk_id150766', 'https://www.phonearena.com/news/samsung-galaxy-tab-s6-lite-amazon-deal-reduced-price-s-pen-bargain_id150767', 'https://www.phonearena.com/news/oneplus-11-amazon-deal_id150764', 'https://www.phonearena.com/news/Spotify-vs.-Apple-A-fight-for-fair-play-in-the-tech-world_id150763', 'https://www.phonearena.com/news/garmin-vivoactive-5-next-big-apple-watch-rival-full-specs-features-capabilities-leaked_id150757']\n"
     ]
    }
   ],
   "source": [
    "# Storing the data with the help of a loop\n",
    "article_title=[]\n",
    "links=[]\n",
    "\n",
    "for t in soup.select('h3.title a'):\n",
    "  article_title.append(t.get_text())\n",
    "  links.append(t.attrs.get('href'))\n",
    "\n",
    "print(article_title)\n",
    "print(links)"
   ]
  },
  {
   "cell_type": "code",
   "execution_count": 72,
   "metadata": {},
   "outputs": [
    {
     "name": "stdout",
     "output_type": "stream",
     "text": [
      "                                       article title  \\\n",
      "0  iPhone 15 is partly to blame for possible remo...   \n",
      "1                   Samsung wants 200MP zoom cameras   \n",
      "2  Samsung might take away the best camera featur...   \n",
      "3  iOS 17 review: total refinement, but it's time...   \n",
      "4  Tipster explains why Samsung Foundry, not TSMC...   \n",
      "\n",
      "                                                link  \n",
      "0  https://www.phonearena.com/news/Cost-cutting-a...  \n",
      "1  https://www.phonearena.com/news/samsung-galaxy...  \n",
      "2  https://www.phonearena.com/news/Samsung-inside...  \n",
      "3  https://www.phonearena.com/news/ios-17-review_...  \n",
      "4  https://www.phonearena.com/news/samsung-foundr...  \n"
     ]
    }
   ],
   "source": [
    "# Convert and save as csv: Phone Arena\n",
    "\n",
    "df = pd.DataFrame(\n",
    "    {'article title': article_title,\n",
    "     'link': links}\n",
    "    )\n",
    "\n",
    "print (df.head())\n",
    "\n",
    "df.to_csv('phonearena.csv', index=False)"
   ]
  },
  {
   "cell_type": "code",
   "execution_count": 73,
   "metadata": {},
   "outputs": [],
   "source": [
    "# For donwloading from one more source: Autonetmagz\n",
    "headers = {'Accept-Language': 'en-US,en;q=0.8'}\n",
    "url = 'https://autonetmagz.com/'\n",
    "response = requests.get(url,headers=headers)\n",
    "soup = BeautifulSoup(response.text, \"html.parser\")"
   ]
  },
  {
   "cell_type": "code",
   "execution_count": 74,
   "metadata": {},
   "outputs": [
    {
     "name": "stdout",
     "output_type": "stream",
     "text": [
      " \n",
      "<h3 class=\"entry-title\"><a href=\"/citroen-resmi-dijual-di-surabaya-bawa-3-model-termasuk-bev/121490/\">Citroën Resmi Dijual di Surabaya, Bawa 3 Model Termasuk BEV!</a></h3>\n",
      "how many titles are available? 10\n"
     ]
    }
   ],
   "source": [
    "# Extracting the number of titles\n",
    "newstitle = soup.select('h3.entry-title')\n",
    "print(\" \")\n",
    "print(newstitle[0])\n",
    "print(\"how many titles are available?\",len(soup.select('h3.entry-title')))"
   ]
  },
  {
   "cell_type": "code",
   "execution_count": 75,
   "metadata": {},
   "outputs": [
    {
     "name": "stdout",
     "output_type": "stream",
     "text": [
      "[<a href=\"/citroen-resmi-dijual-di-surabaya-bawa-3-model-termasuk-bev/121490/\">Citroën Resmi Dijual di Surabaya, Bawa 3 Model Termasuk BEV!</a>, <a href=\"/honda-surabaya-center-bawa-mobil-listrik-promo-menarik-di-giias-surabaya-2023/121483/\">Honda Surabaya Center Bawa Mobil Listrik &amp; Promo Menarik di GIIAS Surabaya 2023</a>, <a href=\"/hyundai-custin-dirilis-di-vietnam-indonesia-menyusul/121476/\">Hyundai Custin Dirilis di Vietnam, Indonesia Menyusul?</a>, <a href=\"/fifgroup-bersama-ojk-gelar-monthly-business-clinic-bertajuk-literasi-keuangan/121471/\">FIFGROUP Bersama OJK Gelar Monthly Business Clinic Bertajuk Literasi Keuangan</a>, <a href=\"/mengenal-yamaha-mt-07-2023-moge-hasil-produksi-anak-bangsa/121465/\">Mengenal Yamaha MT-07 2023, Moge Hasil Produksi Anak Bangsa</a>, <a href=\"/yamaha-mt-07-resmi-diproduksi-di-indonesia-unjuk-kualitas-produksi-skala-global/121452/\">Yamaha MT-07 Resmi Diproduksi Di Indonesia, Unjuk Kualitas Produksi Skala Global</a>, <a href=\"/inilah-hasil-perolehan-honda-pada-seri-ke-4-itcr-dan-speed-challenge/121450/\">Inilah Hasil Perolehan Honda Pada Seri Ke-4 ITCR dan Speed Challenge</a>, <a href=\"/belkote-paints-rilis-axt-basecoat-advance-color-solution-dengan-ribuan-formula-warna-dan-colour-chip/121442/\">Belkote Paints Rilis AXT Basecoat Advance Color Solution dengan Ribuan Formula Warna dan Colour Chip</a>, <a href=\"/dengan-area-pamer-lebih-luas-giias-2023-akan-hadirkan-peserta-brand-lebih-banyak/121435/\">Dengan Area Pamer Lebih Luas, GIIAS Surabaya 2023 Akan Hadirkan Peserta Brand Lebih Banyak!</a>, <a href=\"/bingung-long-weekend-mau-kemana-ke-imx-2023-aja-banyak-program-program-menarik/121425/\">Bingung Long Weekend Mau Kemana? Ke IMX 2023 Aja! Banyak Program-Program Menarik!</a>]\n"
     ]
    }
   ],
   "source": [
    "# Get links\n",
    "text = soup.select('h3 a')\n",
    "print(text)"
   ]
  },
  {
   "cell_type": "code",
   "execution_count": 76,
   "metadata": {},
   "outputs": [
    {
     "name": "stdout",
     "output_type": "stream",
     "text": [
      "/citroen-resmi-dijual-di-surabaya-bawa-3-model-termasuk-bev/121490/\n"
     ]
    }
   ],
   "source": [
    "# Target the attribute inside the tag, to reveal link cleanly\n",
    "links=[]\n",
    "for a in soup.select('h3 a'):\n",
    "  links.append(a.attrs.get('href'))\n",
    "print(links[0])"
   ]
  },
  {
   "cell_type": "code",
   "execution_count": 77,
   "metadata": {},
   "outputs": [
    {
     "name": "stdout",
     "output_type": "stream",
     "text": [
      "['Citroën Resmi Dijual di Surabaya, Bawa 3 Model Termasuk BEV!', 'Honda Surabaya Center Bawa Mobil Listrik & Promo Menarik di GIIAS Surabaya 2023', 'Hyundai Custin Dirilis di Vietnam, Indonesia Menyusul?', 'FIFGROUP Bersama OJK Gelar Monthly Business Clinic Bertajuk Literasi Keuangan', 'Mengenal Yamaha MT-07 2023, Moge Hasil Produksi Anak Bangsa', 'Yamaha MT-07 Resmi Diproduksi Di Indonesia, Unjuk Kualitas Produksi Skala Global', 'Inilah Hasil Perolehan Honda Pada Seri Ke-4 ITCR dan Speed Challenge', 'Belkote Paints Rilis AXT Basecoat Advance Color Solution dengan Ribuan Formula Warna dan Colour Chip', 'Dengan Area Pamer Lebih Luas, GIIAS Surabaya 2023 Akan Hadirkan Peserta Brand Lebih Banyak!', 'Bingung Long Weekend Mau Kemana? Ke IMX 2023 Aja! Banyak Program-Program Menarik!']\n",
      "['/citroen-resmi-dijual-di-surabaya-bawa-3-model-termasuk-bev/121490/', '/honda-surabaya-center-bawa-mobil-listrik-promo-menarik-di-giias-surabaya-2023/121483/', '/hyundai-custin-dirilis-di-vietnam-indonesia-menyusul/121476/', '/fifgroup-bersama-ojk-gelar-monthly-business-clinic-bertajuk-literasi-keuangan/121471/', '/mengenal-yamaha-mt-07-2023-moge-hasil-produksi-anak-bangsa/121465/', '/yamaha-mt-07-resmi-diproduksi-di-indonesia-unjuk-kualitas-produksi-skala-global/121452/', '/inilah-hasil-perolehan-honda-pada-seri-ke-4-itcr-dan-speed-challenge/121450/', '/belkote-paints-rilis-axt-basecoat-advance-color-solution-dengan-ribuan-formula-warna-dan-colour-chip/121442/', '/dengan-area-pamer-lebih-luas-giias-2023-akan-hadirkan-peserta-brand-lebih-banyak/121435/', '/bingung-long-weekend-mau-kemana-ke-imx-2023-aja-banyak-program-program-menarik/121425/']\n"
     ]
    }
   ],
   "source": [
    "# Storing the data with the help of a loop\n",
    "article_title=[]\n",
    "links=[]\n",
    "\n",
    "for t in soup.select('h3.entry-title a'):\n",
    "  article_title.append(t.get_text())\n",
    "  links.append(t.attrs.get('href'))\n",
    "\n",
    "print(article_title)\n",
    "print(links)"
   ]
  },
  {
   "cell_type": "code",
   "execution_count": 78,
   "metadata": {},
   "outputs": [
    {
     "name": "stdout",
     "output_type": "stream",
     "text": [
      "                                       article title  \\\n",
      "0  Citroën Resmi Dijual di Surabaya, Bawa 3 Model...   \n",
      "1  Honda Surabaya Center Bawa Mobil Listrik & Pro...   \n",
      "2  Hyundai Custin Dirilis di Vietnam, Indonesia M...   \n",
      "3  FIFGROUP Bersama OJK Gelar Monthly Business Cl...   \n",
      "4  Mengenal Yamaha MT-07 2023, Moge Hasil Produks...   \n",
      "\n",
      "                                                link  \n",
      "0  /citroen-resmi-dijual-di-surabaya-bawa-3-model...  \n",
      "1  /honda-surabaya-center-bawa-mobil-listrik-prom...  \n",
      "2  /hyundai-custin-dirilis-di-vietnam-indonesia-m...  \n",
      "3  /fifgroup-bersama-ojk-gelar-monthly-business-c...  \n",
      "4  /mengenal-yamaha-mt-07-2023-moge-hasil-produks...  \n"
     ]
    }
   ],
   "source": [
    "# Convert and save to CSV: autonetmagz\n",
    "df = pd.DataFrame(\n",
    "    {'article title': article_title,\n",
    "     'link': links}\n",
    "    )\n",
    "\n",
    "print (df.head())\n",
    "\n",
    "df.to_csv('autonetmagz.csv', index=False)"
   ]
  }
 ],
 "metadata": {
  "kernelspec": {
   "display_name": "Python 3",
   "language": "python",
   "name": "python3"
  },
  "language_info": {
   "codemirror_mode": {
    "name": "ipython",
    "version": 3
   },
   "file_extension": ".py",
   "mimetype": "text/x-python",
   "name": "python",
   "nbconvert_exporter": "python",
   "pygments_lexer": "ipython3",
   "version": "3.10.11"
  },
  "orig_nbformat": 4
 },
 "nbformat": 4,
 "nbformat_minor": 2
}
